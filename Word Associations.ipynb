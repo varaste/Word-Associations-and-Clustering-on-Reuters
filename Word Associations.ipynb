{
 "cells": [
  {
   "cell_type": "code",
   "execution_count": 12,
   "id": "27a3ce98",
   "metadata": {},
   "outputs": [],
   "source": [
    "# -*- coding: utf-8 -*-\n",
    "\"\"\"\n",
    "Created on Sun Dec 24 16:40:40 2021\n",
    "@author: Arya\n",
    "\"\"\"\n",
    "import sys\n",
    "import csv\n",
    "import nltk\n",
    "import numpy\n",
    "import sklearn\n",
    "from nltk.corpus import stopwords\n",
    "from nltk.tokenize import word_tokenize\n",
    "from nltk.stem.porter import PorterStemmer\n",
    "from sklearn.feature_extraction.text import CountVectorizer\n",
    "import numpy as np\n",
    "from sklearn.feature_extraction.text import TfidfVectorizer\n",
    "from scipy import sparse\n"
   ]
  },
  {
   "cell_type": "code",
   "execution_count": null,
   "id": "34a8315d",
   "metadata": {},
   "outputs": [],
   "source": [
    "# for files in glob.glob(\"5501_files/*.txt\"):\n",
    "#     print (files)\n",
    "\n",
    "def textReader(fname):\n",
    "    doc=open(fname,'rb')\n",
    "    document = ' '.join(line.decode('utf-8').strip() for line in doc.readlines())\n",
    "    return document"
   ]
  },
  {
   "cell_type": "code",
   "execution_count": null,
   "id": "ca477fce",
   "metadata": {},
   "outputs": [],
   "source": [
    "documents=[]\n",
    "for files in glob.glob(\"5501_files/*.txt\"):\n",
    "     documents.append(textReader(files))\n",
    "    \n",
    "     \n",
    "nltk_tokenizer=RegexpTokenizer(r'\\w+')\n",
    "\n",
    "for index,document in enumerate(documents):\n",
    "    documents[index]= nltk_tokenizer.tokenize(document)\n",
    "    \n",
    "stop_words=set(stopwords.words(\"english\"))\n",
    "for index,document in enumerate(documents):\n",
    "    documents[index]=[w for w in document if w not in stop_words ]\n",
    "\n",
    "ps=PorterStemmer()"
   ]
  },
  {
   "cell_type": "code",
   "execution_count": null,
   "id": "2b94a5a2",
   "metadata": {},
   "outputs": [],
   "source": [
    "all_words=[]\n",
    "for index,document in enumerate(documents):\n",
    "    list_of_map = list(map(lambda x: ps.stem(x).lower(),document))\n",
    "    documents[index] = list_of_map\n",
    "    all_words = all_words + documents[index]\n",
    "\n",
    "# print (document)"
   ]
  },
  {
   "cell_type": "code",
   "execution_count": null,
   "id": "39f93331",
   "metadata": {},
   "outputs": [],
   "source": [
    "all_words=nltk.FreqDist(all_words)\n",
    "print (all_words.most_common(30))    \n",
    "\n",
    "all_words.plot(30)\n",
    "# from IPython.display import Image\n",
    "# Image(filename='C:\\Users\\Arya\\Desktop\\jjjjjjtttttt\\plot.png')\n",
    "\n",
    "col=14000\n",
    "word_features= [w for (w,c) in all_words.most_common(col)]"
   ]
  },
  {
   "cell_type": "code",
   "execution_count": null,
   "id": "a585cc57",
   "metadata": {},
   "outputs": [],
   "source": [
    "def find_Features(document):\n",
    "    words=document\n",
    "    features=[]\n",
    "    for w in word_features:\n",
    "        features.append(words.count(w))\n",
    "    return features"
   ]
  },
  {
   "cell_type": "code",
   "execution_count": 13,
   "id": "636624ca",
   "metadata": {},
   "outputs": [],
   "source": [
    "def entropy(p):\n",
    "\treturn -(p * numpy.log2(p) + (1-p) * numpy.log2((1-p)))\n",
    "# entropy(0.95)"
   ]
  },
  {
   "cell_type": "code",
   "execution_count": 14,
   "id": "32c0ad34",
   "metadata": {},
   "outputs": [],
   "source": [
    "def relative_entropy(p, q):\n",
    "    return sum(p[i] * numpy.log2(p[i]/q[i]) for i in range(len(p)))\n",
    "# relative_entropy([0.95,0.05], [0.2,0.8])"
   ]
  },
  {
   "cell_type": "code",
   "execution_count": null,
   "id": "71741d82",
   "metadata": {},
   "outputs": [],
   "source": [
    "# index = word_features.index('iran')\n",
    "# print('The index of iran is:', index)\n",
    "# index = word_features.index('teacher')\n",
    "# print('The index of teacher is:', index)"
   ]
  },
  {
   "cell_type": "code",
   "execution_count": null,
   "id": "95b1de76",
   "metadata": {},
   "outputs": [],
   "source": [
    "def termDocumentMatrix(documents):\n",
    "    feature_sets=np.zeros((len(documents),col))\n",
    "    i = 0\n",
    "    for document in documents:\n",
    "        feature_sets[i,]= find_Features([word for word in document])\n",
    "        i=i+1\n",
    "        \n",
    "    return pd.DataFrame(feature_sets,columns = word_features)"
   ]
  },
  {
   "cell_type": "code",
   "execution_count": null,
   "id": "cf96c207",
   "metadata": {},
   "outputs": [],
   "source": [
    "tdm = termDocumentMatrix(documents)\n",
    "print (\"**** Term Document Matrix ****\")\n",
    "\n",
    "print (tdm)\n",
    "\n",
    "print(tdm.T[0])\n",
    "print(len(tdm.T[0]))    \n",
    "\n",
    "mi = []\n",
    "# for t in iran_co:\n",
    "#     print(word_features[t])"
   ]
  },
  {
   "cell_type": "code",
   "execution_count": null,
   "id": "1ac9a1dc",
   "metadata": {},
   "outputs": [],
   "source": [
    "for j in range(0, 5500):\n",
    "    mi.append(sklearn.metrics.mutual_info_score(tdm.T[1079], tdm.T[j]))\n",
    "    print(mi)\n",
    "iran_co = np.argpartition(mi, -10)[-10:]\n",
    "print(iran_co)\n",
    "\n",
    "for t in iran_co:\n",
    "    print(word_features[t])"
   ]
  },
  {
   "cell_type": "code",
   "execution_count": null,
   "id": "cbc14d7a",
   "metadata": {},
   "outputs": [],
   "source": [
    "# for i in range (0, 10):\n",
    "#     for j in range (0, 10):\n",
    "#         mi = round(sklearn.metrics.mutual_info_score(tdm.T[i], tdm.T[j]), 4)\n",
    "#         print(mi)\n",
    "\n",
    "# mi = sklearn.metrics.mutual_info_score(tdm.T[0], tdm.T[5])\n",
    "# print(\"Mutual Information Score is:\")\n",
    "# print(mi)"
   ]
  },
  {
   "cell_type": "code",
   "execution_count": null,
   "id": "eaaccc42",
   "metadata": {},
   "outputs": [],
   "source": [
    "mi2 = sklearn.metrics.mutual_info_score(tdm.T[2], tdm.T[3])\n",
    "print(\"Mutual Information Score is:\")\n",
    "print(mi2)"
   ]
  },
  {
   "cell_type": "code",
   "execution_count": null,
   "id": "643fbe1c",
   "metadata": {},
   "outputs": [],
   "source": [
    "def __init__(self, b=0.75, k1=1.6):\n",
    "        self.vectorizer = TfidfVectorizer(norm=None, smooth_idf=False)\n",
    "        self.b = b\n",
    "        self.k1 = k1\n",
    "\n",
    "    def fit(self, X):\n",
    "        self.vectorizer.fit(X)\n",
    "        y = super(TfidfVectorizer, self.vectorizer).transform(X)\n",
    "        self.avdl = y.sum(1).mean()\n",
    "\n",
    "    def transform(self, q, X):\n",
    "        b, k1, avdl = self.b, self.k1, self.avdl\n",
    "\n",
    "        X = super(TfidfVectorizer, self.vectorizer).transform(X)\n",
    "        len_X = X.sum(1).A1\n",
    "        q, = super(TfidfVectorizer, self.vectorizer).transform([q])\n",
    "        assert sparse.isspmatrix_csr(q)\n",
    "\n",
    "        X = X.tocsc()[:, q.indices]\n",
    "        denom = X + (k1 * (1 - b + b * len_X / avdl))[:, None]\n",
    "        # idf(t) = log [ n / df(t) ] + 1 in sklearn, so it need to be coneverted\n",
    "        # to idf(t) = log [ n / df(t) ] with minus 1\n",
    "        idf = self.vectorizer._tfidf.idf_[None, q.indices] - 1.\n",
    "        numer = X.multiply(np.broadcast_to(idf, X.shape)) * (k1 + 1)                                                          \n",
    "        return (numer / denom).sum(1).A1\n"
   ]
  },
  {
   "cell_type": "code",
   "execution_count": null,
   "id": "bd7e7bce",
   "metadata": {},
   "outputs": [],
   "source": [
    "'''\n",
    "************************************************\n",
    "similarity_matrix=pd.DataFrame(np.corrcoef(tdm.T),index=word_features,columns=word_features)\n",
    "np.savetxt('newPicksData.txt', similarity_matrix)\n",
    "\n",
    "print (\"**** Similarity Matrix ****\")\n",
    "print (str(round(similarity_matrix, 3)))\n",
    "************************************************\n",
    "'''"
   ]
  },
  {
   "cell_type": "code",
   "execution_count": null,
   "id": "5f8e1d21",
   "metadata": {},
   "outputs": [],
   "source": []
  },
  {
   "cell_type": "code",
   "execution_count": null,
   "id": "03350fe4",
   "metadata": {},
   "outputs": [],
   "source": []
  },
  {
   "cell_type": "code",
   "execution_count": null,
   "id": "55bbe458",
   "metadata": {},
   "outputs": [],
   "source": []
  },
  {
   "cell_type": "code",
   "execution_count": null,
   "id": "74a5a42b",
   "metadata": {
    "scrolled": true
   },
   "outputs": [],
   "source": []
  },
  {
   "cell_type": "code",
   "execution_count": null,
   "id": "b3556176",
   "metadata": {},
   "outputs": [],
   "source": []
  },
  {
   "cell_type": "code",
   "execution_count": null,
   "id": "c13877f8",
   "metadata": {},
   "outputs": [],
   "source": []
  },
  {
   "cell_type": "code",
   "execution_count": null,
   "id": "2bd90ad3",
   "metadata": {},
   "outputs": [],
   "source": []
  },
  {
   "cell_type": "code",
   "execution_count": null,
   "id": "5766271c",
   "metadata": {},
   "outputs": [],
   "source": []
  },
  {
   "cell_type": "code",
   "execution_count": null,
   "id": "c6ac4afd",
   "metadata": {},
   "outputs": [],
   "source": []
  },
  {
   "cell_type": "code",
   "execution_count": null,
   "id": "176a3816",
   "metadata": {},
   "outputs": [],
   "source": []
  },
  {
   "cell_type": "code",
   "execution_count": null,
   "id": "fb369bd8",
   "metadata": {},
   "outputs": [],
   "source": []
  },
  {
   "cell_type": "code",
   "execution_count": null,
   "id": "ad00c6c8",
   "metadata": {},
   "outputs": [],
   "source": []
  },
  {
   "cell_type": "code",
   "execution_count": null,
   "id": "ffe65eba",
   "metadata": {},
   "outputs": [],
   "source": []
  },
  {
   "cell_type": "code",
   "execution_count": null,
   "id": "17d04a35",
   "metadata": {},
   "outputs": [],
   "source": []
  },
  {
   "cell_type": "code",
   "execution_count": null,
   "id": "c91b6f74",
   "metadata": {},
   "outputs": [],
   "source": []
  },
  {
   "cell_type": "code",
   "execution_count": null,
   "id": "a7b5470b",
   "metadata": {},
   "outputs": [],
   "source": []
  },
  {
   "cell_type": "code",
   "execution_count": null,
   "id": "3ff8ab5c",
   "metadata": {},
   "outputs": [],
   "source": []
  },
  {
   "cell_type": "code",
   "execution_count": null,
   "id": "6727fd1f",
   "metadata": {},
   "outputs": [],
   "source": []
  },
  {
   "cell_type": "code",
   "execution_count": null,
   "id": "6e8a6b19",
   "metadata": {},
   "outputs": [],
   "source": []
  }
 ],
 "metadata": {
  "kernelspec": {
   "display_name": "Python 3",
   "language": "python",
   "name": "python3"
  },
  "language_info": {
   "codemirror_mode": {
    "name": "ipython",
    "version": 3
   },
   "file_extension": ".py",
   "mimetype": "text/x-python",
   "name": "python",
   "nbconvert_exporter": "python",
   "pygments_lexer": "ipython3",
   "version": "3.8.8"
  }
 },
 "nbformat": 4,
 "nbformat_minor": 5
}
